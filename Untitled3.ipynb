{
  "nbformat": 4,
  "nbformat_minor": 0,
  "metadata": {
    "colab": {
      "provenance": []
    },
    "kernelspec": {
      "name": "python3",
      "display_name": "Python 3"
    },
    "language_info": {
      "name": "python"
    }
  },
  "cells": [
    {
      "cell_type": "markdown",
      "source": [
        "**Incertidumbre y Probabilidad**"
      ],
      "metadata": {
        "id": "0e-SxccO2SJa"
      }
    },
    {
      "cell_type": "code",
      "execution_count": 1,
      "metadata": {
        "colab": {
          "base_uri": "https://localhost:8080/"
        },
        "id": "gUVCoO7_2MAo",
        "outputId": "568c6dab-f7c7-4445-a57a-0cf317e871d8"
      },
      "outputs": [
        {
          "output_type": "stream",
          "name": "stdout",
          "text": [
            "Tiradas: [3, 2, 3, 4, 3, 1, 3, 1, 6, 2]\n",
            "Veces que salió >4: 1\n",
            "Probabilidad estimada: 0.10\n"
          ]
        }
      ],
      "source": [
        "import random\n",
        "# Simular 10 tiradas de un dado\n",
        "tiradas = [random.randint(1, 6) for _ in range(10)]\n",
        "print(\"Tiradas:\", tiradas)\n",
        "# Calcular probabilidad de obtener un número mayor a 4\n",
        "exitos = sum(1 for t in tiradas if t > 4)\n",
        "probabilidad = exitos / len(tiradas)\n",
        "print(f\"Veces que salió >4: {exitos}\")\n",
        "print(f\"Probabilidad estimada: {probabilidad:.2f}\")"
      ]
    },
    {
      "cell_type": "markdown",
      "source": [
        "**Funciones de Pertenencia**"
      ],
      "metadata": {
        "id": "D3rp0Gbu3ust"
      }
    },
    {
      "cell_type": "code",
      "source": [
        "def triangular(x, a, b, c):\n",
        "    \"\"\"\n",
        "    Función de pertenencia triangular.\n",
        "    a: inicio de la base\n",
        "    b: punto máximo (grado 1)\n",
        "    c: fin de la base\n",
        "    \"\"\"\n",
        "    if x <= a or x >= c:\n",
        "        return 0\n",
        "    elif a < x < b:\n",
        "        return (x - a) / (b - a)\n",
        "    elif b <= x < c:\n",
        "        return (c - x) / (c - b)\n",
        "    else:\n",
        "        return 0\n",
        "\n",
        "# Ejemplo: temperatura cálida en [15, 25, 35]\n",
        "temperatura = 25\n",
        "grado = triangular(temperatura, 15, 25, 35)\n",
        "print(f\"Grado de pertenencia de {temperatura}°C a 'cálida': {grado:.2f}\")\n"
      ],
      "metadata": {
        "colab": {
          "base_uri": "https://localhost:8080/"
        },
        "id": "wIFQblt338hO",
        "outputId": "11231acb-0451-4a87-8ffb-d5936eeb8642"
      },
      "execution_count": 5,
      "outputs": [
        {
          "output_type": "stream",
          "name": "stdout",
          "text": [
            "Grado de pertenencia de 25°C a 'cálida': 1.00\n"
          ]
        }
      ]
    },
    {
      "cell_type": "markdown",
      "source": [
        "**Defuzificación por Método del Centroide**"
      ],
      "metadata": {
        "id": "pXklqWcY4gTC"
      }
    },
    {
      "cell_type": "code",
      "source": [
        "# Valores y sus grados de pertenencia\n",
        "valores = [10, 20, 30]\n",
        "grados = [0.2, 0.5, 0.8]\n",
        "# Fórmula del centroide: (Σ µ(x) * x) / (Σ µ(x))\n",
        "numerador = sum(mu * x for mu, x in zip(grados, valores))\n",
        "denominador = sum(grados)\n",
        "centroide = numerador / denominador\n",
        "print(\"Valores:\", valores)\n",
        "print(\"Grados de pertenencia:\", grados)\n",
        "print(f\"Valor defuzificado (centroide): {centroide:.2f}\")"
      ],
      "metadata": {
        "colab": {
          "base_uri": "https://localhost:8080/"
        },
        "id": "h_7Z2lig4lzP",
        "outputId": "98ec1802-63f3-479a-e393-43dcbd31b82e"
      },
      "execution_count": 6,
      "outputs": [
        {
          "output_type": "stream",
          "name": "stdout",
          "text": [
            "Valores: [10, 20, 30]\n",
            "Grados de pertenencia: [0.2, 0.5, 0.8]\n",
            "Valor defuzificado (centroide): 24.00\n"
          ]
        }
      ]
    }
  ]
}